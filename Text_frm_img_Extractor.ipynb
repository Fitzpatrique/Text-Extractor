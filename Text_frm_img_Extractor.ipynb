{
 "cells": [
  {
   "cell_type": "code",
   "execution_count": 1,
   "metadata": {},
   "outputs": [
    {
     "name": "stdout",
     "output_type": "stream",
     "text": [
      "Enter the name to give Text : image\n",
      "Enter the Image Path + Image name: C:\\\\Users\\\\USEER\\\\Pictures\\\\Screenshot_2019-07-01-01-09-06.png\n"
     ]
    }
   ],
   "source": [
    "import pytesseract\n",
    "\n",
    "pytesseract.pytesseract.tesseract_cmd = r'C:\\Users\\USEER\\AppData\\Local\\Tesseract-OCR\\tesseract.exe'\n",
    "\n",
    "text = str(input(\"Enter the name to give Text : \"))\n",
    "\n",
    "def img_to_text(img):\n",
    "    read = pytesseract.image_to_string(img)\n",
    "    with open(text + \".txt\", 'w') as f:\n",
    "        f.write(read)\n",
    "\n",
    "\n",
    "image_path = str(input(\"Enter the Image Path + Image name: \"))\n",
    "\n",
    "img_to_text(image_path)"
   ]
  },
  {
   "cell_type": "code",
   "execution_count": null,
   "metadata": {},
   "outputs": [],
   "source": []
  }
 ],
 "metadata": {
  "kernelspec": {
   "display_name": "Python 3",
   "language": "python",
   "name": "python3"
  },
  "language_info": {
   "codemirror_mode": {
    "name": "ipython",
    "version": 3
   },
   "file_extension": ".py",
   "mimetype": "text/x-python",
   "name": "python",
   "nbconvert_exporter": "python",
   "pygments_lexer": "ipython3",
   "version": "3.7.6"
  }
 },
 "nbformat": 4,
 "nbformat_minor": 4
}
